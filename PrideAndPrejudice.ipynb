{
 "cells": [
  {
   "cell_type": "code",
   "execution_count": 19,
   "metadata": {
    "collapsed": false,
    "deletable": true,
    "editable": true
   },
   "outputs": [],
   "source": [
    "from __future__ import print_function\n",
    "from keras.callbacks import LambdaCallback, EarlyStopping, ModelCheckpoint\n",
    "from keras.models import Sequential\n",
    "from keras.layers import Dense, Dropout, Activation\n",
    "from keras.layers import LSTM\n",
    "from keras.optimizers import RMSprop\n",
    "from keras.utils.data_utils import get_file\n",
    "from keras.models import load_model\n",
    "from keras.models import Model\n",
    "import numpy as np\n",
    "import random\n",
    "import sys\n",
    "import io\n",
    "import tensorflow as tf\n",
    "import re\n",
    "from keras.wrappers.scikit_learn import KerasClassifier\n",
    "import matplotlib.pyplot as plt\n",
    "\n",
    "#remove word Chapter\n",
    "fin = open(\"/Users/neilwatt/Documents/BIs/PrWeb/2018Posts/August/TextGeneration/PrideAndPrejudice/Original.txt\", encoding='utf-8')\n",
    "fout = open(\"Clean.txt\", \"w+\", encoding='utf-8')\n",
    "delete_list = ['Chapter']\n",
    "for line in fin:\n",
    "    for word in delete_list:\n",
    "        line = line.replace(word, \"\")\n",
    "    fout.write(line)\n",
    "fin.close()\n",
    "fout.close()\n",
    "\n"
   ]
  },
  {
   "cell_type": "code",
   "execution_count": 2,
   "metadata": {
    "collapsed": false,
    "deletable": true,
    "editable": true
   },
   "outputs": [
    {
     "data": {
      "text/plain": [
       "' \\n  \\n  \\n   \\n  \\n  \\n it is a truth universally acknowledged, that a single man in possession \\n of a go'"
      ]
     },
     "execution_count": 2,
     "metadata": {},
     "output_type": "execute_result"
    }
   ],
   "source": [
    "#reading in copy of text with \"Chapter\" removed\n",
    "Clean = '/Users/neilwatt/Documents/BIs/PrWeb/2018Posts/August/TextGeneration/PrideAndPrejudice/Clean.txt' # first command line arg\n",
    "with io.open(Clean, encoding='utf-8') as f:\n",
    "     Corpus = f.read().lower().replace('\\n', ' \\n ')\n",
    "\n",
    "#remove numbers from text\n",
    "text=re.sub(r\"\\b\\d+\\b\", \"\", Corpus)\n",
    "\n",
    "#review first 100 characters\n",
    "text[:100]"
   ]
  },
  {
   "cell_type": "code",
   "execution_count": 3,
   "metadata": {
    "collapsed": false,
    "deletable": true,
    "editable": true
   },
   "outputs": [
    {
     "name": "stdout",
     "output_type": "stream",
     "text": [
      "total chars: 52\n",
      "nb sequences: 243191\n",
      "Vectorization...\n"
     ]
    }
   ],
   "source": [
    "\n",
    "\n",
    "# runing this on a GPU as very computationally expensive\n",
    "config = tf.ConfigProto()\n",
    "#only allocate as much GPU memory based on runtime allocations, initially little but allows memory to be extended\n",
    "config.gpu_options.allow_growth = True\n",
    "\n",
    "\n",
    "chars = sorted(list(set(text)))\n",
    "print('total chars:', len(chars))\n",
    "char_indices = dict((c, i) for i, c in enumerate(chars))\n",
    "indices_char = dict((i, c) for i, c in enumerate(chars))\n",
    "\n",
    "# cut the text in semi-redundant sequences of maxlen characters for calibrating model against\n",
    "#here max length (maxlen) is pretty arbitrary, in future posts going to play around with this\n",
    "maxlen = 40\n",
    "step = 3\n",
    "sentences = []\n",
    "next_chars = []\n",
    "for i in range(0, len(text) - maxlen, step):\n",
    "    sentences.append(text[i: i + maxlen])\n",
    "    next_chars.append(text[i + maxlen])\n",
    "print('nb sequences:', len(sentences))\n",
    "\n",
    "print('Vectorization...')\n",
    "x = np.zeros((len(sentences), maxlen, len(chars)), dtype=np.bool)\n",
    "y = np.zeros((len(sentences), len(chars)), dtype=np.bool)\n",
    "for i, sentence in enumerate(sentences):\n",
    "    for t, char in enumerate(sentence):\n",
    "        x[i, t, char_indices[char]] = 1\n",
    "    y[i, char_indices[next_chars[i]]] = 1\n",
    "\n"
   ]
  },
  {
   "cell_type": "code",
   "execution_count": 39,
   "metadata": {
    "collapsed": false,
    "deletable": true,
    "editable": true
   },
   "outputs": [
    {
     "name": "stdout",
     "output_type": "stream",
     "text": [
      "Build model...\n"
     ]
    }
   ],
   "source": [
    "# build the model: a single LSTM\n",
    "print('Build model...')\n",
    "model = Sequential()\n",
    "#the input shape is the max len of characters (set above)\n",
    "#lens(chars) is simply the number of characters, in theory should consider controlling this\n",
    "\n",
    "#the keras team use 128 units for a similar problem but this sis something we can optimise later\n",
    "#note I added \"return_sequences=True\" to the first LSTM layer\n",
    "model.add(LSTM(128,  return_sequences=True,input_shape=(maxlen, len(chars))))\n",
    "model.add(Dropout(0.2))\n",
    "model.add(LSTM(50, input_shape=(maxlen, len(chars))))\n",
    "#the dense layer uses the number of characters as units\n",
    "model.add(Dense(len(chars)))\n",
    "model.add(Activation('softmax'))\n",
    "\n",
    "#lr=learning rate, i definately want to come back and optimise this later\n",
    "optimizer = RMSprop(lr=0.01)\n",
    "model.compile(loss='categorical_crossentropy', optimizer=optimizer)\n"
   ]
  },
  {
   "cell_type": "code",
   "execution_count": 34,
   "metadata": {
    "collapsed": true,
    "deletable": true,
    "editable": true
   },
   "outputs": [],
   "source": [
    "#temperature is a hyperparameter to control randomess of predictions by scaling logts before softmax\n",
    "#temperature scales the logits before applying softmax\n",
    "\n",
    "def sample(preds, temperature=0.5):\n",
    "    # helper function to sample an index from a probability array\n",
    "    preds = np.asarray(preds).astype('float64')\n",
    "    preds = np.log(preds) / temperature\n",
    "    exp_preds = np.exp(preds)\n",
    "    preds = exp_preds / np.sum(exp_preds)\n",
    "    probas = np.random.multinomial(1, preds, 1)\n",
    "    return np.argmax(probas)\n",
    "\n",
    "\n"
   ]
  },
  {
   "cell_type": "code",
   "execution_count": 35,
   "metadata": {
    "collapsed": true,
    "deletable": true,
    "editable": true
   },
   "outputs": [],
   "source": [
    "def on_epoch_end(epoch, logs):\n",
    "    # Function invoked at end of each epoch. Prints generated text.\n",
    "    print()\n",
    "    print('----- Generating text after Epoch: %d' % epoch)\n",
    "\n",
    "    start_index = random.randint(0, len(text) - maxlen - 1)\n",
    "    for diversity in [0.2, 0.5, 1.0, 1.2]:\n",
    "        print('----- diversity:', diversity)\n",
    "\n",
    "        generated = ''\n",
    "        sentence = text[start_index: start_index + maxlen]\n",
    "        generated += sentence\n",
    "        print('----- Generating with seed: \"' + sentence + '\"')\n",
    "        sys.stdout.write(generated)\n",
    "\n",
    "        for i in range(400):\n",
    "            x_pred = np.zeros((1, maxlen, len(chars)))\n",
    "            for t, char in enumerate(sentence):\n",
    "                x_pred[0, t, char_indices[char]] = 1.\n",
    "\n",
    "            preds = model.predict(x_pred, verbose=0)[0]\n",
    "            next_index = sample(preds, diversity)\n",
    "            next_char = indices_char[next_index]\n",
    "\n",
    "            generated += next_char\n",
    "            sentence = sentence[1:] + next_char\n",
    "\n",
    "            sys.stdout.write(next_char)\n",
    "            sys.stdout.flush()\n",
    "        print()\n",
    "\n",
    "print_callback = LambdaCallback(on_epoch_end=on_epoch_end)"
   ]
  },
  {
   "cell_type": "code",
   "execution_count": null,
   "metadata": {
    "collapsed": false,
    "deletable": true,
    "editable": true
   },
   "outputs": [
    {
     "name": "stdout",
     "output_type": "stream",
     "text": [
      "Train on 218871 samples, validate on 24320 samples\n",
      "Epoch 1/60\n",
      " - 324s - loss: 2.0141 - val_loss: 1.8310\n",
      "\n",
      "----- Generating text after Epoch: 0\n",
      "----- diversity: 0.2\n",
      "----- Generating with seed: \"ttributing any part of mr. bingley's con\"\n",
      "ttributing any part of mr. bingley's condeered the marrient of his intered the compering of his before the \n",
      " married to prosers to be \n",
      " condent to so condering of his contering the rester her the \n",
      " marrient to the \n",
      " collins of his had his one the \n",
      " \n",
      " there all the \n",
      " comparing of the \n",
      " so the repliess to see his \n",
      " seeure the \n",
      " being to her comparing of his comparing of his be \n",
      " \n",
      " be the \n",
      " darcy of his being of his had the seesed the marr\n",
      "----- diversity: 0.5\n",
      "----- Generating with seed: \"ttributing any part of mr. bingley's con\"\n",
      "ttributing any part of mr. bingley's condaned a they reverrings. than only farter mistry \n",
      " been to the his of his reess comperined and before agass the all mearing they deer \n",
      " sand of set meril incearil ther every \n",
      " as undersed been the compressent marriess amried was ampared forminer \n",
      " bennet in him in the have of have on his sable had vise of have mear of the ofter her intering him fords to be some, he as his \n",
      " beings \n",
      " of \n",
      " was \n",
      " cac\n",
      "----- diversity: 1.0\n",
      "----- Generating with seed: \"ttributing any part of mr. bingley's con\"\n",
      "ttributing any part of mr. bingley's condadied him indalied there \n",
      " ond ig; and glow be \n",
      " fordy all \n",
      " stadiding to be ofter a janesant jade toms times be \n",
      " kneek--comcoml elped of to be \n",
      " a is \n",
      " contromily. her. \n",
      "  \n",
      " “gone hard way repise miss oussion of o i along of \n",
      " in all time hen han \n",
      " mearing of to cho opissed in could him \n",
      " tpevive. it very complisiting tole soliw a have nothion her theye; elizabeth ingraid be ull notly insuse in\n",
      "----- diversity: 1.2\n",
      "----- Generating with seed: \"ttributing any part of mr. bingley's con\"\n",
      "ttributing any part of mr. bingley's condert \n",
      " of herrided in that do theyreaived. \n",
      "  \n",
      " fathergey fachers darge's of was \n",
      " pave sich joor \n",
      " hooms, and been the sub comleence threwugtil otnour yon usbadlysher wis, aby cane, the poourienne firsure. \n",
      " espised they ford_.” \n",
      "  \n",
      " “they bidtley imhave imissect \n",
      " her ofmiral of hiursenvirty herserficed mraraftiganesw pillempslarinceffore, if.” \n",
      "  \n",
      " behace on lodghti my pisiivauted every _nouata\n",
      "\n",
      "Epoch 00001: loss improved from inf to 2.01413, saving model to weightssecondlayer.hdf5\n",
      "Epoch 2/60\n"
     ]
    }
   ],
   "source": [
    "            \n",
    "# define the checkpoint so I can load model in future\n",
    "filepath = \"weightssecondlayer.hdf5\"\n",
    "checkpoint = ModelCheckpoint(filepath, \n",
    "                             monitor='loss', \n",
    "                             verbose=1, \n",
    "                             save_best_only=True, \n",
    "                 \n",
    "                             mode='min')\n",
    "earlystop = EarlyStopping(monitor='val_loss', patience=2,\n",
    "                              verbose=2)\n",
    "\n",
    "#\n",
    "\n",
    "# fit model using the gpu\n",
    "#batch size is a particularly important hyperparamter which I intend to play around within future posts\n",
    "with tf.device('/gpu:0'):\n",
    "\n",
    "    history=model.fit(x, y,validation_split=0.1,batch_size=200,epochs=60,verbose=2,callbacks=[print_callback, checkpoint,earlystop])\n"
   ]
  },
  {
   "cell_type": "code",
   "execution_count": 22,
   "metadata": {
    "collapsed": false,
    "scrolled": true
   },
   "outputs": [
    {
     "name": "stdout",
     "output_type": "stream",
     "text": [
      "_________________________________________________________________\n",
      "Layer (type)                 Output Shape              Param #   \n",
      "=================================================================\n",
      "lstm_2 (LSTM)                (None, 128)               92672     \n",
      "_________________________________________________________________\n",
      "dropout_1 (Dropout)          (None, 128)               0         \n",
      "_________________________________________________________________\n",
      "dense_2 (Dense)              (None, 52)                6708      \n",
      "_________________________________________________________________\n",
      "activation_2 (Activation)    (None, 52)                0         \n",
      "=================================================================\n",
      "Total params: 99,380\n",
      "Trainable params: 99,380\n",
      "Non-trainable params: 0\n",
      "_________________________________________________________________\n"
     ]
    }
   ],
   "source": [
    "\n",
    "model.summary()"
   ]
  },
  {
   "cell_type": "code",
   "execution_count": 23,
   "metadata": {
    "collapsed": false
   },
   "outputs": [
    {
     "name": "stdout",
     "output_type": "stream",
     "text": [
      "dict_keys(['val_loss', 'loss'])\n"
     ]
    }
   ],
   "source": [
    "print(history.history.keys())"
   ]
  },
  {
   "cell_type": "code",
   "execution_count": 37,
   "metadata": {
    "collapsed": false
   },
   "outputs": [
    {
     "data": {
      "image/png": "[encoded data removed]",
      "text/plain": [
       "<matplotlib.figure.Figure at 0x156c51c18>"
      ]
     },
     "metadata": {},
     "output_type": "display_data"
    }
   ],
   "source": [
    "# summarize history for loss\n",
    "plt.plot(history.history['loss'])\n",
    "plt.plot(history.history['val_loss'])\n",
    "plt.title('model loss')\n",
    "plt.ylabel('loss')\n",
    "plt.xlabel('epoch')\n",
    "plt.legend(['train', 'test'], loc='upper left')\n",
    "plt.show()"
   ]
  },
  {
   "cell_type": "code",
   "execution_count": 14,
   "metadata": {
    "collapsed": false,
    "deletable": true,
    "editable": true
   },
   "outputs": [],
   "source": [
    "#let's now generate some text using the model\n",
    "def generate_output():\n",
    "    generated = ''\n",
    "    usr_input = input(\"Input some sample text and the model will attempt to complete it in Jane Austen style. Your input is: \")\n",
    "    sentence = ('{0:0>' + str(maxlen) + '}').format(usr_input).lower()\n",
    "    generated += usr_input \n",
    "\n",
    "    sys.stdout.write(\"\\n\\nHere is the end of your story: \\n\\n\") \n",
    "    sys.stdout.write(usr_input)\n",
    "    for i in range(400):\n",
    "\n",
    "        \n",
    "        x = np.zeros((1, maxlen, len(chars)))\n",
    "\n",
    "        for t, char in enumerate(sentence):\n",
    "            if char != '0':\n",
    "                x[0, t, char_indices[char]] = 1.\n",
    "\n",
    "        \n",
    "        preds = model.predict(x, verbose=0)[0]\n",
    "        next_index = sample(preds, temperature = 1.0)\n",
    "        next_char = indices_char[next_index]\n",
    "\n",
    "        generated += next_char\n",
    "        sentence = sentence[1:] + next_char\n",
    "\n",
    "        sys.stdout.write(next_char)\n",
    "        sys.stdout.flush()\n",
    "\n",
    "        if next_char == '\\n':\n",
    "            continue"
   ]
  },
  {
   "cell_type": "code",
   "execution_count": 15,
   "metadata": {
    "collapsed": false,
    "deletable": true,
    "editable": true,
    "scrolled": true
   },
   "outputs": [
    {
     "name": "stdout",
     "output_type": "stream",
     "text": [
      "Input some sample text and the model will attempt to complete it in Jane Austen style. Your input is: I went to the park with Darcy.\n",
      "\n",
      "\n",
      "Here is the end of your story: \n",
      "\n",
      "I went to the park with Darcy. that your noting as aftrame respectment not seetly of a granspacts. to consider the at any returning, by one liat \n",
      " at the dunting from conceally ment grabite as ill a servant able to \n",
      " heltfords, and took of engagned. she would not pertagth his near bail, she kind, to particular in derectured she did not it had doubted in spoking mr. bennet sexter on to his \n",
      " difnered before to then, in use seem"
     ]
    }
   ],
   "source": [
    "\n",
    "\n",
    "generate_output()"
   ]
  },
  {
   "cell_type": "code",
   "execution_count": null,
   "metadata": {
    "collapsed": false,
    "deletable": true,
    "editable": true
   },
   "outputs": [],
   "source": []
  }
 ],
 "metadata": {
  "kernelspec": {
   "display_name": "Python 3",
   "language": "python",
   "name": "python3"
  },
  "language_info": {
   "codemirror_mode": {
    "name": "ipython",
    "version": 3
   },
   "file_extension": ".py",
   "mimetype": "text/x-python",
   "name": "python",
   "nbconvert_exporter": "python",
   "pygments_lexer": "ipython3",
   "version": "3.5.2"
  }
 },
 "nbformat": 4,
 "nbformat_minor": 2
}
